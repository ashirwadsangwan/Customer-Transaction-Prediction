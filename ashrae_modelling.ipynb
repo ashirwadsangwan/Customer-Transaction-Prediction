{
  "nbformat": 4,
  "nbformat_minor": 0,
  "metadata": {
    "colab": {
      "name": "ashrae_modelling.ipynb",
      "provenance": [],
      "collapsed_sections": [],
      "machine_shape": "hm",
      "include_colab_link": true
    },
    "kernelspec": {
      "name": "python3",
      "display_name": "Python 3"
    },
    "accelerator": "GPU"
  },
  "cells": [
    {
      "cell_type": "markdown",
      "metadata": {
        "id": "view-in-github",
        "colab_type": "text"
      },
      "source": [
        "<a href=\"https://colab.research.google.com/github/ashirwadsangwan/Tabular-Data-Projects/blob/master/ashrae_modelling.ipynb\" target=\"_parent\"><img src=\"https://colab.research.google.com/assets/colab-badge.svg\" alt=\"Open In Colab\"/></a>"
      ]
    },
    {
      "cell_type": "code",
      "metadata": {
        "id": "akJ8fvsfGVdn",
        "colab_type": "code",
        "outputId": "05dcfb44-8881-4c8f-b606-a2ac54284d7f",
        "colab": {
          "resources": {
            "http://localhost:8080/nbextensions/google.colab/files.js": {
              "data": "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",
              "ok": true,
              "headers": [
                [
                  "content-type",
                  "application/javascript"
                ]
              ],
              "status": 200,
              "status_text": ""
            }
          },
          "base_uri": "https://localhost:8080/",
          "height": 91
        }
      },
      "source": [
        "# Run this cell and select the kaggle.json file downloaded\n",
        "# from the Kaggle account settings page.\n",
        "from google.colab import files\n",
        "files.upload()"
      ],
      "execution_count": 2,
      "outputs": [
        {
          "output_type": "display_data",
          "data": {
            "text/html": [
              "\n",
              "     <input type=\"file\" id=\"files-6bb65ffa-272c-4d2b-8864-ec00d7b6f2c0\" name=\"files[]\" multiple disabled />\n",
              "     <output id=\"result-6bb65ffa-272c-4d2b-8864-ec00d7b6f2c0\">\n",
              "      Upload widget is only available when the cell has been executed in the\n",
              "      current browser session. Please rerun this cell to enable.\n",
              "      </output>\n",
              "      <script src=\"/nbextensions/google.colab/files.js\"></script> "
            ],
            "text/plain": [
              "<IPython.core.display.HTML object>"
            ]
          },
          "metadata": {
            "tags": []
          }
        },
        {
          "output_type": "stream",
          "text": [
            "Saving kaggle.json to kaggle.json\n"
          ],
          "name": "stdout"
        },
        {
          "output_type": "execute_result",
          "data": {
            "text/plain": [
              "{'kaggle.json': b'{\"username\":\"ashirwadsangwan\",\"key\":\"a562fd00dd6ab5f6b556d2aeeab492e1\"}'}"
            ]
          },
          "metadata": {
            "tags": []
          },
          "execution_count": 2
        }
      ]
    },
    {
      "cell_type": "code",
      "metadata": {
        "id": "cDLXrqcNGlU7",
        "colab_type": "code",
        "outputId": "7212b779-4ea9-4b33-b965-9c310e0b25cb",
        "colab": {
          "base_uri": "https://localhost:8080/",
          "height": 34
        }
      },
      "source": [
        "# Let's make sure the kaggle.json file is present.\n",
        "!ls -lha kaggle.json"
      ],
      "execution_count": 3,
      "outputs": [
        {
          "output_type": "stream",
          "text": [
            "-rw-r--r-- 1 root root 71 Nov 12 12:21 kaggle.json\n"
          ],
          "name": "stdout"
        }
      ]
    },
    {
      "cell_type": "code",
      "metadata": {
        "id": "QITWh1N5GoqG",
        "colab_type": "code",
        "colab": {}
      },
      "source": [
        "# Next, install the Kaggle API client.\n",
        "!pip install -q kaggle"
      ],
      "execution_count": 0,
      "outputs": []
    },
    {
      "cell_type": "code",
      "metadata": {
        "id": "KixiXyagGy7Y",
        "colab_type": "code",
        "colab": {}
      },
      "source": [
        "# The Kaggle API client expects this file to be in ~/.kaggle,\n",
        "# so move it there.\n",
        "!mkdir -p ~/.kaggle\n",
        "!cp kaggle.json ~/.kaggle/\n",
        "\n",
        "# This permissions change avoids a warning on Kaggle tool startup.\n",
        "!chmod 600 ~/.kaggle/kaggle.json"
      ],
      "execution_count": 0,
      "outputs": []
    },
    {
      "cell_type": "code",
      "metadata": {
        "id": "rPZaJ7oOGuyh",
        "colab_type": "code",
        "outputId": "d69f9911-ad01-45a2-8e11-06bbd03be79c",
        "colab": {
          "base_uri": "https://localhost:8080/",
          "height": 408
        }
      },
      "source": [
        "# List available competitions.\n",
        "!kaggle competitions list"
      ],
      "execution_count": 6,
      "outputs": [
        {
          "output_type": "stream",
          "text": [
            "Warning: Looks like you're using an outdated API Version, please consider updating (server 1.5.6 / client 1.5.4)\n",
            "ref                                            deadline             category            reward  teamCount  userHasEntered  \n",
            "---------------------------------------------  -------------------  ---------------  ---------  ---------  --------------  \n",
            "digit-recognizer                               2030-01-01 00:00:00  Getting Started  Knowledge       2448            True  \n",
            "titanic                                        2030-01-01 00:00:00  Getting Started  Knowledge      14657           False  \n",
            "house-prices-advanced-regression-techniques    2030-01-01 00:00:00  Getting Started  Knowledge       5143            True  \n",
            "imagenet-object-localization-challenge         2029-12-31 07:00:00  Research         Knowledge         57           False  \n",
            "tensorflow2-question-answering                 2020-01-22 23:59:00  Featured           $50,000        418           False  \n",
            "data-science-bowl-2019                         2020-01-22 23:59:00  Featured          $160,000        791            True  \n",
            "pku-autonomous-driving                         2020-01-21 23:59:00  Featured           $25,000        207           False  \n",
            "competitive-data-science-predict-future-sales  2019-12-31 23:59:00  Playground           Kudos       4775            True  \n",
            "ashrae-energy-prediction                       2019-12-19 23:59:00  Featured           $25,000       2011            True  \n",
            "Kannada-MNIST                                  2019-12-17 23:59:00  Playground       Knowledge        703           False  \n",
            "bigquery-geotab-intersection-congestion        2019-12-12 23:59:00  Playground           Kudos        368            True  \n",
            "cat-in-the-dat                                 2019-12-09 23:59:00  Playground            Swag       1049            True  \n",
            "kaggle-survey-2019                             2019-12-02 23:59:00  Analytics          $30,000          0           False  \n",
            "nfl-big-data-bowl-2020                         2019-11-27 23:59:00  Featured           $75,000       1491            True  \n",
            "understanding_cloud_organization               2019-11-18 23:59:00  Research           $10,000       1405           False  \n",
            "rsna-intracranial-hemorrhage-detection         2019-11-13 23:59:00  Featured           $25,000        357           False  \n",
            "3d-object-detection-for-autonomous-vehicles    2019-11-12 23:59:00  Featured           $25,000        551           False  \n",
            "severstal-steel-defect-detection               2019-10-24 23:59:00  Featured          $120,000       2433           False  \n",
            "kuzushiji-recognition                          2019-10-14 23:59:00  Playground         $15,000        293           False  \n",
            "youtube8m-2019                                 2019-10-11 23:59:00  Research           $25,000        283           False  \n"
          ],
          "name": "stdout"
        }
      ]
    },
    {
      "cell_type": "code",
      "metadata": {
        "id": "0hyJ4Rb5HMwH",
        "colab_type": "code",
        "outputId": "0eab2752-fd39-46a3-bbbe-051c2888b4b1",
        "colab": {
          "base_uri": "https://localhost:8080/",
          "height": 340
        }
      },
      "source": [
        "\n",
        "!kaggle competitions download -c ashrae-energy-prediction -p ~/.kaggle --force"
      ],
      "execution_count": 17,
      "outputs": [
        {
          "output_type": "stream",
          "text": [
            "Warning: Looks like you're using an outdated API Version, please consider updating (server 1.5.6 / client 1.5.4)\n",
            "Downloading building_metadata.csv to /root/.kaggle\n",
            "  0% 0.00/44.5k [00:00<?, ?B/s]\n",
            "100% 44.5k/44.5k [00:00<00:00, 20.6MB/s]\n",
            "Downloading sample_submission.csv.zip to /root/.kaggle\n",
            " 92% 81.0M/88.4M [00:01<00:00, 58.9MB/s]\n",
            "100% 88.4M/88.4M [00:01<00:00, 82.9MB/s]\n",
            "Downloading weather_train.csv.zip to /root/.kaggle\n",
            "  0% 0.00/1.27M [00:00<?, ?B/s]\n",
            "100% 1.27M/1.27M [00:00<00:00, 86.1MB/s]\n",
            "Downloading train.csv.zip to /root/.kaggle\n",
            " 84% 101M/120M [00:00<00:00, 156MB/s] \n",
            "100% 120M/120M [00:00<00:00, 204MB/s]\n",
            "Downloading weather_test.csv.zip to /root/.kaggle\n",
            "  0% 0.00/2.53M [00:00<?, ?B/s]\n",
            "100% 2.53M/2.53M [00:00<00:00, 170MB/s]\n",
            "Downloading test.csv.zip to /root/.kaggle\n",
            " 92% 154M/167M [00:00<00:00, 202MB/s]\n",
            "100% 167M/167M [00:00<00:00, 191MB/s]\n"
          ],
          "name": "stdout"
        }
      ]
    },
    {
      "cell_type": "code",
      "metadata": {
        "id": "HI6vSxiUScu0",
        "colab_type": "code",
        "colab": {}
      },
      "source": [
        "import gc\n",
        "import random\n",
        "import math\n",
        "\n",
        "import lightgbm as lgb\n",
        "from sklearn.metrics import mean_squared_error\n",
        "from sklearn.preprocessing import LabelEncoder\n",
        "\n",
        "\n",
        "\n",
        "import numpy as np # linear algebra\n",
        "import pandas as pd # data processing, CSV file I/O (e.g. pd.read_csv)\n",
        "\n",
        "# Input data files are available in the \"../input/\" directory.\n",
        "# For example, running this (by clicking run or pressing Shift+Enter) will list all files under the input directory\n",
        "\n",
        "import os\n",
        "for dirname, _, filenames in os.walk('~/.kaggle/competitions/ashrae-energy-prediction'):\n",
        "    for filename in filenames:\n",
        "        print(os.path.join(dirname, filename))\n",
        "\n",
        "# Any results you write to the current directory are saved as output.\n",
        "\n",
        "# matplotlib and seaborn for plotting\n",
        "import matplotlib.pyplot as plt\n",
        "%matplotlib inline\n",
        "\n",
        "import seaborn as sns\n",
        "import matplotlib.patches as patches\n",
        "\n",
        "from pandas.plotting import register_matplotlib_converters\n",
        "register_matplotlib_converters()\n",
        "\n",
        "from warnings import filterwarnings as fw\n",
        "fw(\"ignore\")\n",
        "\n",
        "\n",
        "path_data = \"~/.kaggle/\"\n",
        "path_train = path_data + \"train.csv\"\n",
        "path_test = path_data + \"test.csv\"\n",
        "path_building = path_data + \"building_metadata.csv\"\n",
        "path_weather_train = path_data + \"weather_train.csv\"\n",
        "path_weather_test = path_data + \"weather_test.csv\"\n",
        "\n",
        "plt.style.use(\"seaborn\")\n",
        "sns.set(font_scale=1)\n",
        "\n",
        "myfavouritenumber = 0\n",
        "seed = myfavouritenumber\n",
        "random.seed(seed)"
      ],
      "execution_count": 0,
      "outputs": []
    },
    {
      "cell_type": "code",
      "metadata": {
        "id": "4PQHmBYwaABH",
        "colab_type": "code",
        "colab": {
          "base_uri": "https://localhost:8080/",
          "height": 204
        },
        "outputId": "375bff73-e472-45c7-945c-1b8de3d46156"
      },
      "source": [
        "!unzip ~/.kaggle/weather_test.csv.zip -d ~/.kaggle\n",
        "!unzip ~/.kaggle/weather_train.csv.zip -d ~/.kaggle\n",
        "!unzip ~/.kaggle/test.csv.zip -d ~/.kaggle\n",
        "!unzip ~/.kaggle/train.csv.zip -d ~/.kaggle\n",
        "!unzip ~/.kaggle/sample_submission.csv.zip -d ~/.kaggle"
      ],
      "execution_count": 19,
      "outputs": [
        {
          "output_type": "stream",
          "text": [
            "Archive:  /root/.kaggle/weather_test.csv.zip\n",
            "replace /root/.kaggle/weather_test.csv? [y]es, [n]o, [A]ll, [N]one, [r]ename: y\n",
            "  inflating: /root/.kaggle/weather_test.csv  \n",
            "Archive:  /root/.kaggle/weather_train.csv.zip\n",
            "  inflating: /root/.kaggle/weather_train.csv  \n",
            "Archive:  /root/.kaggle/test.csv.zip\n",
            "  inflating: /root/.kaggle/test.csv  \n",
            "Archive:  /root/.kaggle/train.csv.zip\n",
            "  inflating: /root/.kaggle/train.csv  \n",
            "Archive:  /root/.kaggle/sample_submission.csv.zip\n",
            "  inflating: /root/.kaggle/sample_submission.csv  \n"
          ],
          "name": "stdout"
        }
      ]
    },
    {
      "cell_type": "code",
      "metadata": {
        "id": "v1K6x2Ata3EA",
        "colab_type": "code",
        "colab": {
          "base_uri": "https://localhost:8080/",
          "height": 85
        },
        "outputId": "855b43f8-750b-4594-cbec-b8349b504d0c"
      },
      "source": [
        "!ls ~/.kaggle"
      ],
      "execution_count": 20,
      "outputs": [
        {
          "output_type": "stream",
          "text": [
            "building_metadata.csv\t   test.csv\t  weather_test.csv\n",
            "kaggle.json\t\t   test.csv.zip   weather_test.csv.zip\n",
            "sample_submission.csv\t   train.csv\t  weather_train.csv\n",
            "sample_submission.csv.zip  train.csv.zip  weather_train.csv.zip\n"
          ],
          "name": "stdout"
        }
      ]
    },
    {
      "cell_type": "code",
      "metadata": {
        "id": "6c25BANvbIeP",
        "colab_type": "code",
        "colab": {}
      },
      "source": [
        "!rm ~/.kaggle/sample_submission.csv.zip\n",
        "!rm ~/.kaggle/train.csv.zip\n",
        "!rm ~/.kaggle/weather_train.csv.zip\n",
        "!rm ~/.kaggle/test.csv.zip\n",
        "!rm ~/.kaggle/weather_test.csv.zip"
      ],
      "execution_count": 0,
      "outputs": []
    },
    {
      "cell_type": "code",
      "metadata": {
        "id": "L85yZn8VbbRS",
        "colab_type": "code",
        "colab": {
          "base_uri": "https://localhost:8080/",
          "height": 34
        },
        "outputId": "04d47eb3-44ee-4291-9888-31b8d3c89a4c"
      },
      "source": [
        "gc.collect()"
      ],
      "execution_count": 22,
      "outputs": [
        {
          "output_type": "execute_result",
          "data": {
            "text/plain": [
              "86"
            ]
          },
          "metadata": {
            "tags": []
          },
          "execution_count": 22
        }
      ]
    },
    {
      "cell_type": "code",
      "metadata": {
        "id": "4_Ka58Wjbet1",
        "colab_type": "code",
        "colab": {
          "base_uri": "https://localhost:8080/",
          "height": 68
        },
        "outputId": "9509b876-f9fc-4665-9e27-0779493114f8"
      },
      "source": [
        "!ls ~/.kaggle/"
      ],
      "execution_count": 23,
      "outputs": [
        {
          "output_type": "stream",
          "text": [
            "building_metadata.csv  test.csv\t\t weather_train.csv\n",
            "kaggle.json\t       train.csv\n",
            "sample_submission.csv  weather_test.csv\n"
          ],
          "name": "stdout"
        }
      ]
    },
    {
      "cell_type": "code",
      "metadata": {
        "id": "8FgC4GlvHZQ1",
        "colab_type": "code",
        "colab": {}
      },
      "source": [
        "train_df = pd.read_csv(path_train)\n",
        "\n",
        "building = pd.read_csv(path_building)\n",
        "le = LabelEncoder()\n",
        "building.primary_use = le.fit_transform(building.primary_use)\n",
        "\n",
        "weather_train = pd.read_csv(path_weather_train)"
      ],
      "execution_count": 0,
      "outputs": []
    },
    {
      "cell_type": "code",
      "metadata": {
        "id": "4YiaddB7WXl5",
        "colab_type": "code",
        "colab": {}
      },
      "source": [
        "from pandas.api.types import is_datetime64_any_dtype as is_datetime\n",
        "from pandas.api.types import is_categorical_dtype\n",
        "\n",
        "def reduce_mem_usage(df, use_float16=False):\n",
        "    \"\"\"\n",
        "    Iterate through all the columns of a dataframe and modify the data type to reduce memory usage.        \n",
        "    \"\"\"\n",
        "    \n",
        "    start_mem = df.memory_usage().sum() / 1024**2\n",
        "    print(\"Memory usage of dataframe is {:.2f} MB\".format(start_mem))\n",
        "    \n",
        "    for col in df.columns:\n",
        "        if is_datetime(df[col]) or is_categorical_dtype(df[col]):\n",
        "            continue\n",
        "        col_type = df[col].dtype\n",
        "        \n",
        "        if col_type != object:\n",
        "            c_min = df[col].min()\n",
        "            c_max = df[col].max()\n",
        "            if str(col_type)[:3] == \"int\":\n",
        "                if c_min > np.iinfo(np.int8).min and c_max < np.iinfo(np.int8).max:\n",
        "                    df[col] = df[col].astype(np.int8)\n",
        "                elif c_min > np.iinfo(np.int16).min and c_max < np.iinfo(np.int16).max:\n",
        "                    df[col] = df[col].astype(np.int16)\n",
        "                elif c_min > np.iinfo(np.int32).min and c_max < np.iinfo(np.int32).max:\n",
        "                    df[col] = df[col].astype(np.int32)\n",
        "                elif c_min > np.iinfo(np.int64).min and c_max < np.iinfo(np.int64).max:\n",
        "                    df[col] = df[col].astype(np.int64)  \n",
        "            else:\n",
        "                if use_float16 and c_min > np.finfo(np.float16).min and c_max < np.finfo(np.float16).max:\n",
        "                    df[col] = df[col].astype(np.float16)\n",
        "                elif c_min > np.finfo(np.float32).min and c_max < np.finfo(np.float32).max:\n",
        "                    df[col] = df[col].astype(np.float32)\n",
        "                else:\n",
        "                    df[col] = df[col].astype(np.float64)\n",
        "        else:\n",
        "            df[col] = df[col].astype(\"category\")\n",
        "\n",
        "    end_mem = df.memory_usage().sum() / 1024**2\n",
        "    print(\"Memory usage after optimization is: {:.2f} MB\".format(end_mem))\n",
        "    print(\"Decreased by {:.1f}%\".format(100 * (start_mem - end_mem) / start_mem))\n",
        "    \n",
        "    return df"
      ],
      "execution_count": 0,
      "outputs": []
    },
    {
      "cell_type": "code",
      "metadata": {
        "id": "O2Z6py-Hbr-z",
        "colab_type": "code",
        "colab": {
          "base_uri": "https://localhost:8080/",
          "height": 187
        },
        "outputId": "2df81c2a-b41d-497f-f127-e4dd7b4dad41"
      },
      "source": [
        "train_df = reduce_mem_usage(train_df, use_float16=True)\n",
        "building = reduce_mem_usage(building, use_float16=True)\n",
        "weather_train = reduce_mem_usage(weather_train, use_float16=True)\n",
        "gc.collect()"
      ],
      "execution_count": 26,
      "outputs": [
        {
          "output_type": "stream",
          "text": [
            "Memory usage of dataframe is 616.95 MB\n",
            "Memory usage after optimization is: 173.90 MB\n",
            "Decreased by 71.8%\n",
            "Memory usage of dataframe is 0.07 MB\n",
            "Memory usage after optimization is: 0.02 MB\n",
            "Decreased by 74.9%\n",
            "Memory usage of dataframe is 9.60 MB\n",
            "Memory usage after optimization is: 2.65 MB\n",
            "Decreased by 72.4%\n"
          ],
          "name": "stdout"
        },
        {
          "output_type": "execute_result",
          "data": {
            "text/plain": [
              "0"
            ]
          },
          "metadata": {
            "tags": []
          },
          "execution_count": 26
        }
      ]
    },
    {
      "cell_type": "code",
      "metadata": {
        "id": "5WoRB7Wyb_VS",
        "colab_type": "code",
        "colab": {}
      },
      "source": [
        "def prepare_data(X, building_data, weather_data, test=False):\n",
        "    \"\"\"\n",
        "    Preparing final dataset with all features.\n",
        "    \"\"\"\n",
        "    \n",
        "    X = X.merge(building_data, on=\"building_id\", how=\"left\")\n",
        "    X = X.merge(weather_data, on=[\"site_id\", \"timestamp\"], how=\"left\")\n",
        "    \n",
        "    X.timestamp = pd.to_datetime(X.timestamp, format=\"%Y-%m-%d %H:%M:%S\")\n",
        "    X.square_feet = np.log1p(X.square_feet)\n",
        "    \n",
        "    if not test:\n",
        "        X.sort_values(\"timestamp\", inplace=True)\n",
        "        X.reset_index(drop=True, inplace=True)\n",
        "    \n",
        "    gc.collect()\n",
        "    \n",
        "    holidays = [\"2016-01-01\", \"2016-01-18\", \"2016-02-15\", \"2016-05-30\", \"2016-07-04\",\n",
        "                \"2016-09-05\", \"2016-10-10\", \"2016-11-11\", \"2016-11-24\", \"2016-12-26\",\n",
        "                \"2017-01-01\", \"2017-01-16\", \"2017-02-20\", \"2017-05-29\", \"2017-07-04\",\n",
        "                \"2017-09-04\", \"2017-10-09\", \"2017-11-10\", \"2017-11-23\", \"2017-12-25\",\n",
        "                \"2018-01-01\", \"2018-01-15\", \"2018-02-19\", \"2018-05-28\", \"2018-07-04\",\n",
        "                \"2018-09-03\", \"2018-10-08\", \"2018-11-12\", \"2018-11-22\", \"2018-12-25\",\n",
        "                \"2019-01-01\"]\n",
        "    \n",
        "    day_before_holiday = [\"2016-01-17\", \"2016-02-14\", \"2016-05-29\", \"2016-07-03\",\n",
        "                \"2016-09-04\", \"2016-10-09\", \"2016-11-10\", \"2016-11-23\", \"2016-12-25\",\n",
        "                \"2016-12-31\", \"2017-01-15\", \"2017-02-19\", \"2017-05-28\", \"2017-07-03\",\n",
        "                \"2017-09-03\", \"2017-10-08\", \"2017-11-09\", \"2017-11-22\", \"2017-12-24\",\n",
        "                \"2017-12-31\", \"2018-01-14\", \"2018-02-18\", \"2018-05-27\", \"2018-07-03\",\n",
        "                \"2018-09-02\", \"2018-10-07\", \"2018-11-11\", \"2018-11-21\", \"2018-12-24\",\n",
        "                \"2018-12-31\"]\n",
        "    \n",
        "    X[\"hour\"] = X.timestamp.dt.hour\n",
        "    X[\"weekday\"] = X.timestamp.dt.weekday\n",
        "    X[\"is_holiday\"] = (X.timestamp.dt.date.astype(\"str\").isin(holidays)).astype(int)\n",
        "    X[\"is_day_before_holiday\"] = (X.timestamp.dt.date.astype(\"str\").isin(day_before_holiday)).astype(int)\n",
        "\n",
        "    X['month_datetime'] = X['timestamp'].dt.month.astype(np.int8)\n",
        "    X['weekofyear_datetime'] = X['timestamp'].dt.weekofyear.astype(np.int8)\n",
        "    X['dayofyear_datetime'] = X['timestamp'].dt.dayofyear.astype(np.int16)\n",
        "\n",
        "    X['hour_datetime'] = X['timestamp'].dt.hour.astype(np.int8)  \n",
        "    X['day_week'] = X['timestamp'].dt.dayofweek.astype(np.int8)\n",
        "    X['day_month_datetime'] = X['timestamp'].dt.day.astype(np.int8)\n",
        "    X['week_month_datetime'] = X['timestamp'].dt.day/7\n",
        "    X['week_month_datetime'] = X['week_month_datetime'].apply(lambda x: math.ceil(x)).astype(np.int8)\n",
        "\n",
        "    X['year_built'] = X['year_built']-1900\n",
        "    X['square_feet'] = np.log(X['square_feet'])\n",
        "    \n",
        "    \n",
        "    \n",
        "    drop_features = [\"timestamp\", \"sea_level_pressure\", \"wind_direction\", \"wind_speed\"]\n",
        "\n",
        "    X.drop(drop_features, axis=1, inplace=True)\n",
        "\n",
        "    if test:\n",
        "        row_ids = X.row_id\n",
        "        X.drop(\"row_id\", axis=1, inplace=True)\n",
        "        return X, row_ids\n",
        "    else:\n",
        "        y = np.log1p(X.meter_reading)\n",
        "        X.drop(\"meter_reading\", axis=1, inplace=True)\n",
        "        return X, y"
      ],
      "execution_count": 0,
      "outputs": []
    },
    {
      "cell_type": "code",
      "metadata": {
        "id": "JWagg5JPcFW9",
        "colab_type": "code",
        "colab": {
          "base_uri": "https://localhost:8080/",
          "height": 34
        },
        "outputId": "270debbb-6fea-41fb-b40d-05ab2d925460"
      },
      "source": [
        "X_train, y_train = prepare_data(train_df, building, weather_train)\n",
        "\n",
        "del train_df, weather_train\n",
        "gc.collect()"
      ],
      "execution_count": 28,
      "outputs": [
        {
          "output_type": "execute_result",
          "data": {
            "text/plain": [
              "53"
            ]
          },
          "metadata": {
            "tags": []
          },
          "execution_count": 28
        }
      ]
    },
    {
      "cell_type": "markdown",
      "metadata": {
        "id": "aZPmd5yUcMxo",
        "colab_type": "text"
      },
      "source": [
        "#### Two-fold LightGBM Model split half-and-half\n",
        "The data is split into two based on time. Each half is used as the training data for a model.\n",
        "\n",
        "* Half 1: The first 50% rows of train data\n",
        "\n",
        "* Half 2: The last 50% rows of train data"
      ]
    },
    {
      "cell_type": "code",
      "metadata": {
        "id": "gmioH_gscJKa",
        "colab_type": "code",
        "colab": {
          "base_uri": "https://localhost:8080/",
          "height": 255
        },
        "outputId": "493e8ea1-465c-4a57-cb83-4a601ac51a8c"
      },
      "source": [
        "X_half_1 = X_train[:int(X_train.shape[0] / 2)]\n",
        "X_half_2 = X_train[int(X_train.shape[0] / 2):]\n",
        "\n",
        "y_half_1 = y_train[:int(X_train.shape[0] / 2)]\n",
        "y_half_2 = y_train[int(X_train.shape[0] / 2):]\n",
        "\n",
        "categorical_features = [\"building_id\", \"site_id\", \"meter\", \"primary_use\", \"hour\", \"weekday\"]\n",
        "\n",
        "d_half_1 = lgb.Dataset(X_half_1, label=y_half_1, categorical_feature=categorical_features, free_raw_data=False)\n",
        "d_half_2 = lgb.Dataset(X_half_2, label=y_half_2, categorical_feature=categorical_features, free_raw_data=False)\n",
        "\n",
        "watchlist_1 = [d_half_1, d_half_2]\n",
        "watchlist_2 = [d_half_2, d_half_1]\n",
        "\n",
        "params = {\n",
        "    \"objective\": \"regression\",\n",
        "    \"boosting\": \"gbdt\",\n",
        "    \"num_leaves\": 40,\n",
        "    \"learning_rate\": 0.05,\n",
        "    \"feature_fraction\": 0.85,\n",
        "    \"reg_lambda\": 2,\n",
        "    \"metric\": \"rmse\"\n",
        "}\n",
        "\n",
        "print(\"Building model with first half and validating on second half:\")\n",
        "model_half_1 = lgb.train(params, train_set=d_half_1, num_boost_round=1000, valid_sets=watchlist_1, verbose_eval=200, early_stopping_rounds=200)\n",
        "\n",
        "print(\"Building model with second half and validating on first half:\")\n",
        "model_half_2 = lgb.train(params, train_set=d_half_2, num_boost_round=1000, valid_sets=watchlist_2, verbose_eval=200, early_stopping_rounds=200)"
      ],
      "execution_count": 29,
      "outputs": [
        {
          "output_type": "stream",
          "text": [
            "Building model with first half and validating on second half:\n",
            "Training until validation scores don't improve for 200 rounds.\n",
            "[200]\ttraining's rmse: 0.818689\tvalid_1's rmse: 1.73241\n",
            "Early stopping, best iteration is:\n",
            "[46]\ttraining's rmse: 1.17277\tvalid_1's rmse: 1.46022\n",
            "Building model with second half and validating on first half:\n",
            "Training until validation scores don't improve for 200 rounds.\n",
            "[200]\ttraining's rmse: 0.892751\tvalid_1's rmse: 1.54569\n",
            "[400]\ttraining's rmse: 0.836992\tvalid_1's rmse: 1.5417\n",
            "[600]\ttraining's rmse: 0.807947\tvalid_1's rmse: 1.54121\n",
            "[800]\ttraining's rmse: 0.785826\tvalid_1's rmse: 1.53898\n",
            "[1000]\ttraining's rmse: 0.766475\tvalid_1's rmse: 1.53986\n",
            "Did not meet early stopping. Best iteration is:\n",
            "[1000]\ttraining's rmse: 0.766475\tvalid_1's rmse: 1.53986\n"
          ],
          "name": "stdout"
        }
      ]
    },
    {
      "cell_type": "code",
      "metadata": {
        "id": "i-kp8TKzcdpk",
        "colab_type": "code",
        "colab": {
          "base_uri": "https://localhost:8080/",
          "height": 509
        },
        "outputId": "3326f05d-03f6-4bdf-e49f-914602627857"
      },
      "source": [
        "df_fimp_1 = pd.DataFrame()\n",
        "df_fimp_1[\"feature\"] = X_train.columns.values\n",
        "df_fimp_1[\"importance\"] = model_half_1.feature_importance()\n",
        "df_fimp_1[\"half\"] = 1\n",
        "\n",
        "df_fimp_2 = pd.DataFrame()\n",
        "df_fimp_2[\"feature\"] = X_train.columns.values\n",
        "df_fimp_2[\"importance\"] = model_half_2.feature_importance()\n",
        "df_fimp_2[\"half\"] = 2\n",
        "\n",
        "df_fimp = pd.concat([df_fimp_1, df_fimp_2], axis=0)\n",
        "\n",
        "plt.figure(figsize=(14, 7))\n",
        "sns.barplot(x=\"importance\", y=\"feature\", data=df_fimp.sort_values(by=\"importance\", ascending=False))\n",
        "plt.title(\"LightGBM Feature Importance\")\n",
        "plt.tight_layout()"
      ],
      "execution_count": 30,
      "outputs": [
        {
          "output_type": "display_data",
          "data": {
            "image/png": "[encoded data removed]",
            "text/plain": [
              "<Figure size 1008x504 with 1 Axes>"
            ]
          },
          "metadata": {
            "tags": []
          }
        }
      ]
    },
    {
      "cell_type": "code",
      "metadata": {
        "id": "MpW9VhzZiDiq",
        "colab_type": "code",
        "colab": {
          "base_uri": "https://localhost:8080/",
          "height": 34
        },
        "outputId": "07e2251d-6779-4a30-b125-8378577afcaf"
      },
      "source": [
        "del X_train, y_train, X_half_1, X_half_2, y_half_1, y_half_2, d_half_1, d_half_2, watchlist_1, watchlist_2, df_fimp_1, df_fimp_2, df_fimp\n",
        "gc.collect()"
      ],
      "execution_count": 31,
      "outputs": [
        {
          "output_type": "execute_result",
          "data": {
            "text/plain": [
              "6095"
            ]
          },
          "metadata": {
            "tags": []
          },
          "execution_count": 31
        }
      ]
    },
    {
      "cell_type": "code",
      "metadata": {
        "id": "lEtQ8_4XiHKk",
        "colab_type": "code",
        "colab": {
          "base_uri": "https://localhost:8080/",
          "height": 119
        },
        "outputId": "0dfade4f-e051-4bc3-c914-bc7518d986e3"
      },
      "source": [
        "df_test = pd.read_csv(path_test)\n",
        "weather_test = pd.read_csv(path_weather_test)\n",
        "\n",
        "df_test = reduce_mem_usage(df_test)\n",
        "weather_test = reduce_mem_usage(weather_test)\n",
        "\n",
        "X_test, row_ids = prepare_data(df_test, building, weather_test, test=True)"
      ],
      "execution_count": 32,
      "outputs": [
        {
          "output_type": "stream",
          "text": [
            "Memory usage of dataframe is 1272.51 MB\n",
            "Memory usage after optimization is: 358.65 MB\n",
            "Decreased by 71.8%\n",
            "Memory usage of dataframe is 19.04 MB\n",
            "Memory usage after optimization is: 8.96 MB\n",
            "Decreased by 53.0%\n"
          ],
          "name": "stdout"
        }
      ]
    },
    {
      "cell_type": "code",
      "metadata": {
        "id": "_jJWeZZ7iKnQ",
        "colab_type": "code",
        "colab": {
          "base_uri": "https://localhost:8080/",
          "height": 34
        },
        "outputId": "03b472c8-7526-4e5f-944f-5f69162f6ec8"
      },
      "source": [
        "del df_test, building, weather_test\n",
        "gc.collect()"
      ],
      "execution_count": 33,
      "outputs": [
        {
          "output_type": "execute_result",
          "data": {
            "text/plain": [
              "254"
            ]
          },
          "metadata": {
            "tags": []
          },
          "execution_count": 33
        }
      ]
    },
    {
      "cell_type": "code",
      "metadata": {
        "id": "oA69hMHKjRMx",
        "colab_type": "code",
        "colab": {
          "base_uri": "https://localhost:8080/",
          "height": 34
        },
        "outputId": "4cd84174-fe0d-4c1b-e1de-672208fa9a03"
      },
      "source": [
        "pred = np.expm1(model_half_1.predict(X_test, num_iteration=model_half_1.best_iteration)) / 2\n",
        "\n",
        "del model_half_1\n",
        "gc.collect()"
      ],
      "execution_count": 34,
      "outputs": [
        {
          "output_type": "execute_result",
          "data": {
            "text/plain": [
              "12"
            ]
          },
          "metadata": {
            "tags": []
          },
          "execution_count": 34
        }
      ]
    },
    {
      "cell_type": "code",
      "metadata": {
        "id": "m7QtmaSdjTw5",
        "colab_type": "code",
        "colab": {
          "base_uri": "https://localhost:8080/",
          "height": 34
        },
        "outputId": "abd9a2ae-76fe-444e-dc56-f65395480d7d"
      },
      "source": [
        "pred += np.expm1(model_half_2.predict(X_test, num_iteration=model_half_2.best_iteration)) / 2\n",
        "    \n",
        "del model_half_2\n",
        "gc.collect()"
      ],
      "execution_count": 35,
      "outputs": [
        {
          "output_type": "execute_result",
          "data": {
            "text/plain": [
              "12"
            ]
          },
          "metadata": {
            "tags": []
          },
          "execution_count": 35
        }
      ]
    },
    {
      "cell_type": "code",
      "metadata": {
        "id": "gOQG8f5JjWZZ",
        "colab_type": "code",
        "colab": {}
      },
      "source": [
        "submission = pd.DataFrame({\"row_id\": row_ids, \"meter_reading\": np.clip(pred, 0, a_max=None)})\n",
        "submission.to_csv(\"submission.csv\", index=False)"
      ],
      "execution_count": 0,
      "outputs": []
    },
    {
      "cell_type": "code",
      "metadata": {
        "id": "1_hwHtunumz3",
        "colab_type": "code",
        "colab": {}
      },
      "source": [
        ""
      ],
      "execution_count": 0,
      "outputs": []
    },
    {
      "cell_type": "code",
      "metadata": {
        "id": "tb37XLVYuujL",
        "colab_type": "code",
        "colab": {}
      },
      "source": [
        "submission.to_csv('~/.kaggle/submission.csv', index=False)"
      ],
      "execution_count": 0,
      "outputs": []
    },
    {
      "cell_type": "code",
      "metadata": {
        "id": "E74MC3j8vSRq",
        "colab_type": "code",
        "colab": {
          "base_uri": "https://localhost:8080/",
          "height": 51
        },
        "outputId": "3195387d-d697-411a-b835-f330d5a68a7e"
      },
      "source": [
        "!ls ~/.kaggle"
      ],
      "execution_count": 41,
      "outputs": [
        {
          "output_type": "stream",
          "text": [
            "building_metadata.csv  sample_submission.csv  test.csv\t weather_test.csv\n",
            "kaggle.json\t       submission.csv\t      train.csv  weather_train.csv\n"
          ],
          "name": "stdout"
        }
      ]
    },
    {
      "cell_type": "code",
      "metadata": {
        "id": "qHPSprMfwDLu",
        "colab_type": "code",
        "colab": {}
      },
      "source": [
        "from IPython.display import Javascript\n",
        "js_download = \"\"\"\n",
        "var csv = '%s';\n",
        "\n",
        "var filename = 'submission_1.csv';\n",
        "var blob = new Blob([csv], { type: 'text/csv;charset=utf-8;' });\n",
        "if (navigator.msSaveBlob) { // IE 10+\n",
        "    navigator.msSaveBlob(blob, filename);\n",
        "} else {\n",
        "    var link = document.createElement(\"a\");\n",
        "    if (link.download !== undefined) { // feature detection\n",
        "        // Browsers that support HTML5 download attribute\n",
        "        var url = URL.createObjectURL(blob);\n",
        "        link.setAttribute(\"href\", url);\n",
        "        link.setAttribute(\"download\", filename);\n",
        "        link.style.visibility = 'hidden';\n",
        "        document.body.appendChild(link);\n",
        "        link.click();\n",
        "        document.body.removeChild(link);\n",
        "    }\n",
        "}\n",
        "\"\"\" % submission.to_csv(index=False).replace('\\n','\\\\n').replace(\"'\",\"\\'\")\n",
        "\n",
        "Javascript(js_download)"
      ],
      "execution_count": 0,
      "outputs": []
    },
    {
      "cell_type": "code",
      "metadata": {
        "id": "HqDsJNO1xjXd",
        "colab_type": "code",
        "colab": {
          "base_uri": "https://localhost:8080/",
          "height": 68
        },
        "outputId": "1a3b58cd-036c-4d1c-ec8a-93c2fa09b7db"
      },
      "source": [
        "!kaggle competitions submit ashrae-energy-prediction -f ~/.kaggle/submission.csv -m \"First Submission\""
      ],
      "execution_count": 50,
      "outputs": [
        {
          "output_type": "stream",
          "text": [
            "Warning: Looks like you're using an outdated API Version, please consider updating (server 1.5.6 / client 1.5.4)\n",
            "100% 1.05G/1.05G [00:29<00:00, 38.9MB/s]\n",
            "Successfully submitted to ASHRAE - Great Energy Predictor III"
          ],
          "name": "stdout"
        }
      ]
    },
    {
      "cell_type": "code",
      "metadata": {
        "id": "e8sPwJ561oaF",
        "colab_type": "code",
        "colab": {}
      },
      "source": [
        ""
      ],
      "execution_count": 0,
      "outputs": []
    }
  ]
}