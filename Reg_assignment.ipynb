{
  "nbformat": 4,
  "nbformat_minor": 0,
  "metadata": {
    "colab": {
      "name": "Reg_assignment.ipynb",
      "provenance": [],
      "include_colab_link": true
    },
    "kernelspec": {
      "name": "python3",
      "display_name": "Python 3"
    },
    "accelerator": "GPU"
  },
  "cells": [
    {
      "cell_type": "markdown",
      "metadata": {
        "id": "view-in-github",
        "colab_type": "text"
      },
      "source": [
        "<a href=\"https://colab.research.google.com/github/ashirwadsangwan/Tabular-Data-Projects/blob/master/Reg_assignment.ipynb\" target=\"_parent\"><img src=\"https://colab.research.google.com/assets/colab-badge.svg\" alt=\"Open In Colab\"/></a>"
      ]
    },
    {
      "cell_type": "code",
      "metadata": {
        "id": "h9cQrrcIHjzq",
        "colab_type": "code",
        "colab": {}
      },
      "source": [
        "# Code to read csv file into Colaboratory:\n",
        "!pip install -U -q PyDrive\n",
        "from pydrive.auth import GoogleAuth\n",
        "from pydrive.drive import GoogleDrive\n",
        "from google.colab import auth\n",
        "from oauth2client.client import GoogleCredentials\n",
        "# Authenticate and create the PyDrive client.\n",
        "auth.authenticate_user()\n",
        "gauth = GoogleAuth()\n",
        "gauth.credentials = GoogleCredentials.get_application_default()\n",
        "drive = GoogleDrive(gauth)"
      ],
      "execution_count": 0,
      "outputs": []
    },
    {
      "cell_type": "code",
      "metadata": {
        "id": "iwACNpvbIS5o",
        "colab_type": "code",
        "colab": {
          "base_uri": "https://localhost:8080/",
          "height": 34
        },
        "outputId": "9aa9f5e9-9c9a-4499-9f14-be7b3be8ef53"
      },
      "source": [
        "fluff, id = 'https://drive.google.com/open?id=1t_FbhXUkImzmuDh8ti94intASDU6o0vs'.split('=')\n",
        "print (id) # Verify that you have everything after '='"
      ],
      "execution_count": 2,
      "outputs": [
        {
          "output_type": "stream",
          "text": [
            "1t_FbhXUkImzmuDh8ti94intASDU6o0vs\n"
          ],
          "name": "stdout"
        }
      ]
    },
    {
      "cell_type": "code",
      "metadata": {
        "id": "P1UAIbOYI5lR",
        "colab_type": "code",
        "colab": {}
      },
      "source": [
        "import pandas as pd\n",
        "import numpy as np\n",
        "import matplotlib.pyplot as plt\n",
        "import seaborn as sns\n",
        "from warnings import filterwarnings as fw\n",
        "fw('ignore')"
      ],
      "execution_count": 0,
      "outputs": []
    },
    {
      "cell_type": "code",
      "metadata": {
        "id": "zDTzDI_BJfJo",
        "colab_type": "code",
        "colab": {}
      },
      "source": [
        "downloaded = drive.CreateFile({'id':id}) \n",
        "downloaded.GetContentFile('Schedule Data.csv')  \n",
        "schedule_data = pd.read_csv('Schedule Data.csv')"
      ],
      "execution_count": 0,
      "outputs": []
    },
    {
      "cell_type": "code",
      "metadata": {
        "id": "XODfysDGJrMC",
        "colab_type": "code",
        "colab": {}
      },
      "source": [
        "fluff, id = 'https://drive.google.com/open?id=1rGZjKESwVuHnAU-JMlsExS1XA9WigkV5'.split('=')\n",
        "downloaded = drive.CreateFile({'id':id}) \n",
        "downloaded.GetContentFile('ASSET_METADATA.csv')  \n",
        "asset_meta = pd.read_csv('ASSET_METADATA.csv')"
      ],
      "execution_count": 0,
      "outputs": []
    },
    {
      "cell_type": "code",
      "metadata": {
        "id": "Y_ib_m3yJufV",
        "colab_type": "code",
        "colab": {
          "base_uri": "https://localhost:8080/",
          "height": 136
        },
        "outputId": "8d24c423-09eb-4741-c80c-0acd572fd13e"
      },
      "source": [
        "asset_meta.columns"
      ],
      "execution_count": 6,
      "outputs": [
        {
          "output_type": "execute_result",
          "data": {
            "text/plain": [
              "Index(['ASSET_ID', 'RELEASE_YEAR', 'MPAA_RATING', 'GENRE', 'IMDB_RATING',\n",
              "       'IMDB_RANKING', 'IMDB_VOTES', 'Oscar-Nomination', 'Oscar-Wins',\n",
              "       'Other - Nominations', 'Other - Wins', 'TOMATO_METER', 'TOMATO_RATING',\n",
              "       'TOMATO_REVIEWS', 'TOMATO_FRESH', 'TOMATO_ROTTEN', 'TOMATO_USER_METER',\n",
              "       'TOMATO_USER_RATINGS', 'TOMATO_USER_REVIEWS', 'TOMATO_IMAGE',\n",
              "       'BOX_OFFICE_EARNINGS'],\n",
              "      dtype='object')"
            ]
          },
          "metadata": {
            "tags": []
          },
          "execution_count": 6
        }
      ]
    },
    {
      "cell_type": "code",
      "metadata": {
        "id": "mzQVYsVPKJCn",
        "colab_type": "code",
        "colab": {
          "base_uri": "https://localhost:8080/",
          "height": 85
        },
        "outputId": "f43f8afb-163b-4e74-d5e3-c2c72568f8cb"
      },
      "source": [
        "schedule_data.columns"
      ],
      "execution_count": 7,
      "outputs": [
        {
          "output_type": "execute_result",
          "data": {
            "text/plain": [
              "Index(['ASSET_ID', 'AIRING_START_DATE_TIME', 'AIRING_END_DATE_TIME',\n",
              "       'PREMIER_AIRING', 'EXHIBITION_AIRING', 'FREE_AIRING',\n",
              "       'SCHEDULED_RUNTIME', 'DAY_PART', 'AIRING_REVENUE', 'C3_RATING'],\n",
              "      dtype='object')"
            ]
          },
          "metadata": {
            "tags": []
          },
          "execution_count": 7
        }
      ]
    },
    {
      "cell_type": "code",
      "metadata": {
        "id": "ME9tlVKgKSI_",
        "colab_type": "code",
        "colab": {
          "base_uri": "https://localhost:8080/",
          "height": 34
        },
        "outputId": "2000c323-d615-4c39-8d39-812640f2a61e"
      },
      "source": [
        "import gc\n",
        "df = schedule_data.merge(asset_meta, on='ASSET_ID', how='left')\n",
        "del schedule_data, asset_meta\n",
        "gc.collect()"
      ],
      "execution_count": 8,
      "outputs": [
        {
          "output_type": "execute_result",
          "data": {
            "text/plain": [
              "407"
            ]
          },
          "metadata": {
            "tags": []
          },
          "execution_count": 8
        }
      ]
    },
    {
      "cell_type": "code",
      "metadata": {
        "id": "MTzDg7X5TgTq",
        "colab_type": "code",
        "colab": {}
      },
      "source": [
        "df.loc[:, 'IMDB_VOTES'] = df.IMDB_VOTES.str.replace(\",\", \"\").astype('int')"
      ],
      "execution_count": 0,
      "outputs": []
    },
    {
      "cell_type": "code",
      "metadata": {
        "id": "VeQ-lMG9VmYa",
        "colab_type": "code",
        "colab": {}
      },
      "source": [
        "df.loc[:, 'BOX_OFFICE_EARNINGS'] = df.BOX_OFFICE_EARNINGS.str.replace(\",\", \"\")\n",
        "df.loc[:, 'BOX_OFFICE_EARNINGS'] = df.BOX_OFFICE_EARNINGS.str.replace(\"$\", \"\").astype('float')"
      ],
      "execution_count": 0,
      "outputs": []
    },
    {
      "cell_type": "code",
      "metadata": {
        "id": "U50NiRnEWDt3",
        "colab_type": "code",
        "colab": {}
      },
      "source": [
        "from datetime import datetime\n",
        "df.loc[:, 'AIRING_START_DATE_TIME'] = pd.to_datetime(df.AIRING_START_DATE_TIME)\n",
        "df.loc[:, 'AIRING_END_DATE_TIME'] = pd.to_datetime(df.AIRING_END_DATE_TIME)"
      ],
      "execution_count": 0,
      "outputs": []
    },
    {
      "cell_type": "code",
      "metadata": {
        "id": "43Sk5_73MApF",
        "colab_type": "code",
        "colab": {
          "base_uri": "https://localhost:8080/",
          "height": 612
        },
        "outputId": "1155a627-89dd-4906-9ba0-d24a28923756"
      },
      "source": [
        "df.info()"
      ],
      "execution_count": 12,
      "outputs": [
        {
          "output_type": "stream",
          "text": [
            "<class 'pandas.core.frame.DataFrame'>\n",
            "Int64Index: 2517 entries, 0 to 2516\n",
            "Data columns (total 30 columns):\n",
            "ASSET_ID                  2517 non-null int64\n",
            "AIRING_START_DATE_TIME    2517 non-null datetime64[ns]\n",
            "AIRING_END_DATE_TIME      2517 non-null datetime64[ns]\n",
            "PREMIER_AIRING            2517 non-null int64\n",
            "EXHIBITION_AIRING         2517 non-null int64\n",
            "FREE_AIRING               2517 non-null int64\n",
            "SCHEDULED_RUNTIME         2517 non-null int64\n",
            "DAY_PART                  2517 non-null object\n",
            "AIRING_REVENUE            2517 non-null int64\n",
            "C3_RATING                 2509 non-null float64\n",
            "RELEASE_YEAR              2517 non-null float64\n",
            "MPAA_RATING               2487 non-null object\n",
            "GENRE                     2517 non-null object\n",
            "IMDB_RATING               2517 non-null float64\n",
            "IMDB_RANKING              1940 non-null float64\n",
            "IMDB_VOTES                2517 non-null int64\n",
            "Oscar-Nomination          2517 non-null int64\n",
            "Oscar-Wins                2517 non-null int64\n",
            "Other - Nominations       2517 non-null int64\n",
            "Other - Wins              2517 non-null int64\n",
            "TOMATO_METER              2356 non-null float64\n",
            "TOMATO_RATING             2356 non-null float64\n",
            "TOMATO_REVIEWS            2356 non-null float64\n",
            "TOMATO_FRESH              2356 non-null float64\n",
            "TOMATO_ROTTEN             2356 non-null float64\n",
            "TOMATO_USER_METER         2438 non-null float64\n",
            "TOMATO_USER_RATINGS       2467 non-null float64\n",
            "TOMATO_USER_REVIEWS       2467 non-null float64\n",
            "TOMATO_IMAGE              2356 non-null object\n",
            "BOX_OFFICE_EARNINGS       1038 non-null float64\n",
            "dtypes: datetime64[ns](2), float64(13), int64(11), object(4)\n",
            "memory usage: 609.6+ KB\n"
          ],
          "name": "stdout"
        }
      ]
    },
    {
      "cell_type": "code",
      "metadata": {
        "id": "yawOGiTeMDBp",
        "colab_type": "code",
        "colab": {}
      },
      "source": [
        "df_obj = df.select_dtypes('object').copy()"
      ],
      "execution_count": 0,
      "outputs": []
    },
    {
      "cell_type": "code",
      "metadata": {
        "id": "xuZqaXV9QM58",
        "colab_type": "code",
        "colab": {}
      },
      "source": [
        "def label_encoding(dataframe):\n",
        "    new_df = dataframe.select_dtypes('object')\n",
        "    \n",
        "    for i in new_df.columns:\n",
        "        new_df[i] = new_df[i].astype('category')\n",
        "        new_df[i]  = new_df[i].cat.codes\n",
        "        dataframe[i] = new_df[i]\n",
        "    return dataframe"
      ],
      "execution_count": 0,
      "outputs": []
    },
    {
      "cell_type": "code",
      "metadata": {
        "id": "CBy_91YZQy7z",
        "colab_type": "code",
        "colab": {}
      },
      "source": [
        "df_cat = label_encoding(df.copy())"
      ],
      "execution_count": 0,
      "outputs": []
    },
    {
      "cell_type": "code",
      "metadata": {
        "id": "55wB29_uX93E",
        "colab_type": "code",
        "colab": {
          "base_uri": "https://localhost:8080/",
          "height": 258
        },
        "outputId": "f9211a77-5c01-4030-8f66-391202e762e9"
      },
      "source": [
        "df_cat.head()"
      ],
      "execution_count": 16,
      "outputs": [
        {
          "output_type": "execute_result",
          "data": {
            "text/html": [
              "<div>\n",
              "<style scoped>\n",
              "    .dataframe tbody tr th:only-of-type {\n",
              "        vertical-align: middle;\n",
              "    }\n",
              "\n",
              "    .dataframe tbody tr th {\n",
              "        vertical-align: top;\n",
              "    }\n",
              "\n",
              "    .dataframe thead th {\n",
              "        text-align: right;\n",
              "    }\n",
              "</style>\n",
              "<table border=\"1\" class=\"dataframe\">\n",
              "  <thead>\n",
              "    <tr style=\"text-align: right;\">\n",
              "      <th></th>\n",
              "      <th>ASSET_ID</th>\n",
              "      <th>AIRING_START_DATE_TIME</th>\n",
              "      <th>AIRING_END_DATE_TIME</th>\n",
              "      <th>PREMIER_AIRING</th>\n",
              "      <th>EXHIBITION_AIRING</th>\n",
              "      <th>FREE_AIRING</th>\n",
              "      <th>SCHEDULED_RUNTIME</th>\n",
              "      <th>DAY_PART</th>\n",
              "      <th>AIRING_REVENUE</th>\n",
              "      <th>C3_RATING</th>\n",
              "      <th>RELEASE_YEAR</th>\n",
              "      <th>MPAA_RATING</th>\n",
              "      <th>GENRE</th>\n",
              "      <th>IMDB_RATING</th>\n",
              "      <th>IMDB_RANKING</th>\n",
              "      <th>IMDB_VOTES</th>\n",
              "      <th>Oscar-Nomination</th>\n",
              "      <th>Oscar-Wins</th>\n",
              "      <th>Other - Nominations</th>\n",
              "      <th>Other - Wins</th>\n",
              "      <th>TOMATO_METER</th>\n",
              "      <th>TOMATO_RATING</th>\n",
              "      <th>TOMATO_REVIEWS</th>\n",
              "      <th>TOMATO_FRESH</th>\n",
              "      <th>TOMATO_ROTTEN</th>\n",
              "      <th>TOMATO_USER_METER</th>\n",
              "      <th>TOMATO_USER_RATINGS</th>\n",
              "      <th>TOMATO_USER_REVIEWS</th>\n",
              "      <th>TOMATO_IMAGE</th>\n",
              "      <th>BOX_OFFICE_EARNINGS</th>\n",
              "    </tr>\n",
              "  </thead>\n",
              "  <tbody>\n",
              "    <tr>\n",
              "      <th>0</th>\n",
              "      <td>174543</td>\n",
              "      <td>2013-09-13 21:15:00</td>\n",
              "      <td>2013-09-13 23:45:00</td>\n",
              "      <td>0</td>\n",
              "      <td>1</td>\n",
              "      <td>0</td>\n",
              "      <td>150</td>\n",
              "      <td>4</td>\n",
              "      <td>197840</td>\n",
              "      <td>595443.0</td>\n",
              "      <td>2000.0</td>\n",
              "      <td>6</td>\n",
              "      <td>73</td>\n",
              "      <td>7.8</td>\n",
              "      <td>69.0</td>\n",
              "      <td>205473</td>\n",
              "      <td>2</td>\n",
              "      <td>0</td>\n",
              "      <td>35</td>\n",
              "      <td>7</td>\n",
              "      <td>77.0</td>\n",
              "      <td>7.1</td>\n",
              "      <td>148.0</td>\n",
              "      <td>114.0</td>\n",
              "      <td>34.0</td>\n",
              "      <td>89.0</td>\n",
              "      <td>3.7</td>\n",
              "      <td>254542.0</td>\n",
              "      <td>0</td>\n",
              "      <td>45200000.0</td>\n",
              "    </tr>\n",
              "    <tr>\n",
              "      <th>1</th>\n",
              "      <td>181758</td>\n",
              "      <td>2014-09-24 00:00:00</td>\n",
              "      <td>2014-09-24 03:00:00</td>\n",
              "      <td>0</td>\n",
              "      <td>0</td>\n",
              "      <td>1</td>\n",
              "      <td>180</td>\n",
              "      <td>5</td>\n",
              "      <td>89818</td>\n",
              "      <td>216841.0</td>\n",
              "      <td>1999.0</td>\n",
              "      <td>7</td>\n",
              "      <td>42</td>\n",
              "      <td>8.7</td>\n",
              "      <td>73.0</td>\n",
              "      <td>1080566</td>\n",
              "      <td>4</td>\n",
              "      <td>4</td>\n",
              "      <td>40</td>\n",
              "      <td>33</td>\n",
              "      <td>87.0</td>\n",
              "      <td>7.6</td>\n",
              "      <td>139.0</td>\n",
              "      <td>121.0</td>\n",
              "      <td>18.0</td>\n",
              "      <td>85.0</td>\n",
              "      <td>3.6</td>\n",
              "      <td>33318840.0</td>\n",
              "      <td>0</td>\n",
              "      <td>NaN</td>\n",
              "    </tr>\n",
              "    <tr>\n",
              "      <th>2</th>\n",
              "      <td>191074</td>\n",
              "      <td>2013-09-12 14:15:00</td>\n",
              "      <td>2013-09-12 16:15:00</td>\n",
              "      <td>0</td>\n",
              "      <td>1</td>\n",
              "      <td>0</td>\n",
              "      <td>120</td>\n",
              "      <td>1</td>\n",
              "      <td>60064</td>\n",
              "      <td>388053.0</td>\n",
              "      <td>1990.0</td>\n",
              "      <td>7</td>\n",
              "      <td>24</td>\n",
              "      <td>5.7</td>\n",
              "      <td>NaN</td>\n",
              "      <td>19896</td>\n",
              "      <td>0</td>\n",
              "      <td>0</td>\n",
              "      <td>0</td>\n",
              "      <td>0</td>\n",
              "      <td>33.0</td>\n",
              "      <td>3.7</td>\n",
              "      <td>12.0</td>\n",
              "      <td>4.0</td>\n",
              "      <td>8.0</td>\n",
              "      <td>47.0</td>\n",
              "      <td>2.7</td>\n",
              "      <td>44787.0</td>\n",
              "      <td>2</td>\n",
              "      <td>NaN</td>\n",
              "    </tr>\n",
              "    <tr>\n",
              "      <th>3</th>\n",
              "      <td>196156</td>\n",
              "      <td>2013-07-14 18:00:00</td>\n",
              "      <td>2013-07-14 21:00:00</td>\n",
              "      <td>1</td>\n",
              "      <td>1</td>\n",
              "      <td>0</td>\n",
              "      <td>180</td>\n",
              "      <td>2</td>\n",
              "      <td>164494</td>\n",
              "      <td>670869.0</td>\n",
              "      <td>2006.0</td>\n",
              "      <td>6</td>\n",
              "      <td>10</td>\n",
              "      <td>8.0</td>\n",
              "      <td>81.0</td>\n",
              "      <td>407119</td>\n",
              "      <td>0</td>\n",
              "      <td>0</td>\n",
              "      <td>34</td>\n",
              "      <td>27</td>\n",
              "      <td>95.0</td>\n",
              "      <td>7.8</td>\n",
              "      <td>222.0</td>\n",
              "      <td>210.0</td>\n",
              "      <td>12.0</td>\n",
              "      <td>89.0</td>\n",
              "      <td>3.9</td>\n",
              "      <td>698710.0</td>\n",
              "      <td>0</td>\n",
              "      <td>167000000.0</td>\n",
              "    </tr>\n",
              "    <tr>\n",
              "      <th>4</th>\n",
              "      <td>174201</td>\n",
              "      <td>2014-11-14 15:30:00</td>\n",
              "      <td>2014-11-14 17:30:00</td>\n",
              "      <td>0</td>\n",
              "      <td>0</td>\n",
              "      <td>1</td>\n",
              "      <td>120</td>\n",
              "      <td>1</td>\n",
              "      <td>86961</td>\n",
              "      <td>311122.0</td>\n",
              "      <td>1993.0</td>\n",
              "      <td>7</td>\n",
              "      <td>10</td>\n",
              "      <td>6.4</td>\n",
              "      <td>60.0</td>\n",
              "      <td>87972</td>\n",
              "      <td>3</td>\n",
              "      <td>0</td>\n",
              "      <td>7</td>\n",
              "      <td>1</td>\n",
              "      <td>69.0</td>\n",
              "      <td>6.2</td>\n",
              "      <td>49.0</td>\n",
              "      <td>34.0</td>\n",
              "      <td>15.0</td>\n",
              "      <td>51.0</td>\n",
              "      <td>2.8</td>\n",
              "      <td>182483.0</td>\n",
              "      <td>1</td>\n",
              "      <td>NaN</td>\n",
              "    </tr>\n",
              "  </tbody>\n",
              "</table>\n",
              "</div>"
            ],
            "text/plain": [
              "   ASSET_ID AIRING_START_DATE_TIME  ... TOMATO_IMAGE  BOX_OFFICE_EARNINGS\n",
              "0    174543    2013-09-13 21:15:00  ...            0           45200000.0\n",
              "1    181758    2014-09-24 00:00:00  ...            0                  NaN\n",
              "2    191074    2013-09-12 14:15:00  ...            2                  NaN\n",
              "3    196156    2013-07-14 18:00:00  ...            0          167000000.0\n",
              "4    174201    2014-11-14 15:30:00  ...            1                  NaN\n",
              "\n",
              "[5 rows x 30 columns]"
            ]
          },
          "metadata": {
            "tags": []
          },
          "execution_count": 16
        }
      ]
    },
    {
      "cell_type": "code",
      "metadata": {
        "id": "5k4In8m5Zm85",
        "colab_type": "code",
        "colab": {
          "base_uri": "https://localhost:8080/",
          "height": 612
        },
        "outputId": "03fa49cf-cb6c-4100-ba4d-d0015e4b13cc"
      },
      "source": [
        "df_cat.info()"
      ],
      "execution_count": 17,
      "outputs": [
        {
          "output_type": "stream",
          "text": [
            "<class 'pandas.core.frame.DataFrame'>\n",
            "Int64Index: 2517 entries, 0 to 2516\n",
            "Data columns (total 30 columns):\n",
            "ASSET_ID                  2517 non-null int64\n",
            "AIRING_START_DATE_TIME    2517 non-null datetime64[ns]\n",
            "AIRING_END_DATE_TIME      2517 non-null datetime64[ns]\n",
            "PREMIER_AIRING            2517 non-null int64\n",
            "EXHIBITION_AIRING         2517 non-null int64\n",
            "FREE_AIRING               2517 non-null int64\n",
            "SCHEDULED_RUNTIME         2517 non-null int64\n",
            "DAY_PART                  2517 non-null int8\n",
            "AIRING_REVENUE            2517 non-null int64\n",
            "C3_RATING                 2509 non-null float64\n",
            "RELEASE_YEAR              2517 non-null float64\n",
            "MPAA_RATING               2517 non-null int8\n",
            "GENRE                     2517 non-null int16\n",
            "IMDB_RATING               2517 non-null float64\n",
            "IMDB_RANKING              1940 non-null float64\n",
            "IMDB_VOTES                2517 non-null int64\n",
            "Oscar-Nomination          2517 non-null int64\n",
            "Oscar-Wins                2517 non-null int64\n",
            "Other - Nominations       2517 non-null int64\n",
            "Other - Wins              2517 non-null int64\n",
            "TOMATO_METER              2356 non-null float64\n",
            "TOMATO_RATING             2356 non-null float64\n",
            "TOMATO_REVIEWS            2356 non-null float64\n",
            "TOMATO_FRESH              2356 non-null float64\n",
            "TOMATO_ROTTEN             2356 non-null float64\n",
            "TOMATO_USER_METER         2438 non-null float64\n",
            "TOMATO_USER_RATINGS       2467 non-null float64\n",
            "TOMATO_USER_REVIEWS       2467 non-null float64\n",
            "TOMATO_IMAGE              2517 non-null int8\n",
            "BOX_OFFICE_EARNINGS       1038 non-null float64\n",
            "dtypes: datetime64[ns](2), float64(13), int16(1), int64(11), int8(3)\n",
            "memory usage: 543.2 KB\n"
          ],
          "name": "stdout"
        }
      ]
    },
    {
      "cell_type": "code",
      "metadata": {
        "id": "0PlH9eGhaKjb",
        "colab_type": "code",
        "colab": {}
      },
      "source": [
        ""
      ],
      "execution_count": 0,
      "outputs": []
    },
    {
      "cell_type": "code",
      "metadata": {
        "id": "G_CMccV8aZ6e",
        "colab_type": "code",
        "colab": {
          "base_uri": "https://localhost:8080/",
          "height": 308
        },
        "outputId": "6e932294-c413-4a08-b28d-c9cd92073063"
      },
      "source": [
        "sns.distplot((df.BOX_OFFICE_EARNINGS.dropna()))"
      ],
      "execution_count": 23,
      "outputs": [
        {
          "output_type": "execute_result",
          "data": {
            "text/plain": [
              "<matplotlib.axes._subplots.AxesSubplot at 0x7f9f2c1c95c0>"
            ]
          },
          "metadata": {
            "tags": []
          },
          "execution_count": 23
        },
        {
          "output_type": "display_data",
          "data": {
            "image/png": "[encoded data removed]",
            "text/plain": [
              "<Figure size 432x288 with 1 Axes>"
            ]
          },
          "metadata": {
            "tags": []
          }
        }
      ]
    },
    {
      "cell_type": "code",
      "metadata": {
        "id": "nlf7ZkTgbHPi",
        "colab_type": "code",
        "colab": {}
      },
      "source": [
        ""
      ],
      "execution_count": 0,
      "outputs": []
    }
  ]
}